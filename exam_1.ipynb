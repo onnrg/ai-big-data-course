{
  "nbformat": 4,
  "nbformat_minor": 0,
  "metadata": {
    "colab": {
      "name": "Untitled1.ipynb",
      "provenance": [],
      "authorship_tag": "ABX9TyMlAQZ6hrunUylpfAGq6AE8"
    },
    "kernelspec": {
      "name": "python3",
      "display_name": "Python 3"
    },
    "language_info": {
      "name": "python"
    }
  },
  "cells": [
    {
      "cell_type": "code",
      "execution_count": 37,
      "metadata": {
        "colab": {
          "base_uri": "https://localhost:8080/"
        },
        "id": "qli1rwN7NKpI",
        "outputId": "26f2f6f9-937e-4d32-e42c-2b60f68a5f7c"
      },
      "outputs": [
        {
          "output_type": "stream",
          "name": "stdout",
          "text": [
            "      name      shares       price \n",
            "----------  ----------  ----------\n",
            "        AA         100       32.20\n",
            "       IBM          50       91.10\n",
            "       CAT         150       83.44\n",
            "      MSFT         200       51.23\n",
            "        GE         200       40.37\n",
            "      MSFT          50       65.10\n",
            "       IBM         100       70.44\n"
          ]
        }
      ],
      "source": [
        "name = 'name'\n",
        "shares = 'shares'\n",
        "price= 'price'\n",
        "US='----------'\n",
        "\n",
        "#AA\n",
        "AA_sName = 'AA'\n",
        "AA_shares = '100'\n",
        "AA_price = '32.20'\n",
        "\n",
        "#IBM\n",
        "IBM_sName='IBM'\n",
        "IBM_share=\"50\"\n",
        "IBM_price='91.10'\n",
        "#CAT\n",
        "CAT_sName='CAT'\n",
        "CAT_shares='150'\n",
        "CAT_price='83.44'\n",
        "#MSFT\n",
        "MSFT_sname= 'MSFT'\n",
        "MSFT_shares= '200'\n",
        "MSFT_price= '51.23'\n",
        "#GE\n",
        "GE_sname='GE'\n",
        "GE_shares='95'\n",
        "GE_price='40.37'\n",
        "#MSFT2\n",
        "MSFT2_shares='50'\n",
        "MSFT2_price='65.10'\n",
        "#IBM2\n",
        "IBM2_shares='100'\n",
        "IBM2_price='70.44'\n",
        "#changes\n",
        "GE_shares= '200'\n",
        "print(f'{name:>10}{shares:>12}{price:>12} ')\n",
        "print(f'{US:>10}{US:>12}{US:>12}')\n",
        "print(f'{AA_sName:>10} {AA_shares:>11} {AA_price:>11}')\n",
        "print(f'{IBM_sName:>10} {IBM_share:>11} {IBM_price:>11}')\n",
        "print(f'{CAT_sName:>10} {CAT_shares:>11} {CAT_price:>11}')\n",
        "print(f'{MSFT_sname:>10} {MSFT_shares:>11} {MSFT_price:>11}')\n",
        "print(f'{GE_sname:>10} {GE_shares:>11} {GE_price:>11}')\n",
        "print(f'{MSFT_sname:>10} {MSFT2_shares:>11} {MSFT2_price:>11}')\n",
        "print(f'{IBM_sName:>10} {IBM2_shares:>11} {IBM2_price:>11}')\n"
      ]
    },
    {
      "cell_type": "code",
      "source": [
        ""
      ],
      "metadata": {
        "id": "nV-X5UHgx5Y8"
      },
      "execution_count": null,
      "outputs": []
    }
  ]
}