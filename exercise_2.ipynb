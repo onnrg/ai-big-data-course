{
  "nbformat": 4,
  "nbformat_minor": 0,
  "metadata": {
    "colab": {
      "name": "Untitled1.ipynb",
      "provenance": [],
      "collapsed_sections": [],
      "authorship_tag": "ABX9TyMK3ZcqdJDAx7jA0fucKgO7",
      "include_colab_link": true
    },
    "kernelspec": {
      "name": "python3",
      "display_name": "Python 3"
    },
    "language_info": {
      "name": "python"
    }
  },
  "cells": [
    {
      "cell_type": "markdown",
      "metadata": {
        "id": "view-in-github",
        "colab_type": "text"
      },
      "source": [
        "<a href=\"https://colab.research.google.com/github/onnrg/ai-big-data-course/blob/main/exercise_2.ipynb\" target=\"_parent\"><img src=\"https://colab.research.google.com/assets/colab-badge.svg\" alt=\"Open In Colab\"/></a>"
      ]
    },
    {
      "cell_type": "code",
      "execution_count": 47,
      "metadata": {
        "colab": {
          "base_uri": "https://localhost:8080/"
        },
        "id": "3Ap8sOBUwNyV",
        "outputId": "5259cac4-6f2a-4003-fdb2-7c5b0960a7ad"
      },
      "outputs": [
        {
          "output_type": "stream",
          "name": "stdout",
          "text": [
            "['Al Baha Prov', 'Al Jawf Prov', 'Aseer Prov', 'Riyadh Prov', 'Makkah Prov', 'Eastern Prov', 'Madinah Prov', 'Qassim Prov', 'Northern Borders Prov', 'Hail Prov', 'Tabuk Prov', 'Jizan Prov', 'Najran Prov']\n",
            "['Tabuk Prov', 'Riyadh Prov', 'Qassim Prov', 'Northern Borders Prov', 'Najran Prov', 'Makkah Prov', 'Madinah Prov', 'Jizan Prov', 'Hail Prov', 'Eastern Prov', 'Aseer Prov', 'Al Jawf Prov', 'Al Baha Prov']\n",
            "Al Baha Prov\n",
            "['Tabuk Prov', 'Riyadh Prov', 'Qassim Prov', 'Northern Borders Prov', 'Najran Prov', 'Makkah Prov', 'Al Baha Prov', 'Madinah Prov', 'Jizan Prov', 'Hail Prov', 'Eastern Prov', 'Aseer Prov', 'Al Jawf Prov']\n",
            "['Tabuk Prov', 'Riyadh Prov', 'Qassim Prov', 'Northern Borders Prov', 'Najran Prov', 'Makkah Prov', 'Al Baha Prov', 'Jizan Prov', 'Hail Prov', 'Eastern Prov', 'Aseer Prov', 'Al Jawf Prov']\n",
            "['Al Baha Prov', 'Al Jawf Prov', 'Aseer Prov', 'Eastern Prov', 'Hail Prov', 'Jizan Prov', 'Makkah Prov', 'Najran Prov', 'Northern Borders Prov', 'Qassim Prov', 'Riyadh Prov', 'Tabuk Prov']\n"
          ]
        }
      ],
      "source": [
        "#a\n",
        "Provinces = ['Al Baha Prov','Al Jawf Prov', 'Aseer Prov', 'Riyadh Prov', 'Makkah Prov', 'Eastern Prov', 'Madinah Prov', 'Qassim Prov', 'Northern Borders Prov', 'Hail Prov', 'Tabuk Prov', 'Jizan Prov', 'Najran Prov']\n",
        "print(Provinces)\n",
        "\n",
        "#b\n",
        "Provinces.sort(reverse=True)\n",
        "sorted_list = Provinces\n",
        "print(sorted_list)\n",
        "\n",
        "#c\n",
        "last_province = sorted_list.pop(12)\n",
        "print(last_province)\n",
        "\n",
        "#d\n",
        "sorted_list.insert(6, last_province)\n",
        "print(sorted_list)\n",
        "\n",
        "#e\n",
        "sorted_list.remove('Madinah Prov')\n",
        "print(sorted_list)\n",
        "\n",
        "#f\n",
        "sorted_list.sort()\n",
        "inverse_list = sorted_list\n",
        "print(inverse_list)\n",
        "\n"
      ]
    }
  ]
}